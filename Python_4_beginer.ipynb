{
  "nbformat": 4,
  "nbformat_minor": 0,
  "metadata": {
    "colab": {
      "provenance": [],
      "gpuType": "T4",
      "authorship_tag": "ABX9TyM/A4U/OmClLEzRQv6tQ85O",
      "include_colab_link": true
    },
    "kernelspec": {
      "name": "python3",
      "display_name": "Python 3"
    },
    "language_info": {
      "name": "python"
    },
    "accelerator": "GPU"
  },
  "cells": [
    {
      "cell_type": "markdown",
      "metadata": {
        "id": "view-in-github",
        "colab_type": "text"
      },
      "source": [
        "<a href=\"https://colab.research.google.com/github/greapis/jaeha-shim/blob/main/Python_4_beginer.ipynb\" target=\"_parent\"><img src=\"https://colab.research.google.com/assets/colab-badge.svg\" alt=\"Open In Colab\"/></a>"
      ]
    },
    {
      "cell_type": "code",
      "execution_count": null,
      "metadata": {
        "colab": {
          "base_uri": "https://localhost:8080/"
        },
        "id": "V0Plu2qamgZ-",
        "outputId": "ef6c50cf-bb9d-4371-e6af-0d779621826e"
      },
      "outputs": [
        {
          "output_type": "stream",
          "name": "stdout",
          "text": [
            "150\n"
          ]
        }
      ],
      "source": [
        "a = 100\n",
        "b = 50\n",
        "result = a + b\n",
        "print(result)"
      ]
    },
    {
      "cell_type": "code",
      "source": [
        "print(a, \"+\",  b, \"=\", result)"
      ],
      "metadata": {
        "colab": {
          "base_uri": "https://localhost:8080/"
        },
        "id": "BdFWONftvWeB",
        "outputId": "59c36e4a-0dbf-468a-f3d8-ef00a106feab"
      },
      "execution_count": null,
      "outputs": [
        {
          "output_type": "stream",
          "name": "stdout",
          "text": [
            "100 + 50 = 150\n"
          ]
        }
      ]
    },
    {
      "cell_type": "code",
      "source": [
        "result = a - b\n",
        "print(a, \"-\", b, \"=\", result)"
      ],
      "metadata": {
        "colab": {
          "base_uri": "https://localhost:8080/"
        },
        "id": "Abt1lQULv2RP",
        "outputId": "2a411cbe-cdda-4564-b679-4f40d9977d20"
      },
      "execution_count": null,
      "outputs": [
        {
          "output_type": "stream",
          "name": "stdout",
          "text": [
            "100 - 50 = 50\n"
          ]
        }
      ]
    },
    {
      "cell_type": "code",
      "source": [
        "result = a * b\n",
        "print(a, \"*\", b, \"=\", result)"
      ],
      "metadata": {
        "colab": {
          "base_uri": "https://localhost:8080/"
        },
        "id": "0mvuRIVQwGvy",
        "outputId": "10413da5-16f7-44f2-fbd7-33decb605690"
      },
      "execution_count": null,
      "outputs": [
        {
          "output_type": "stream",
          "name": "stdout",
          "text": [
            "100 * 50 = 5000\n"
          ]
        }
      ]
    },
    {
      "cell_type": "code",
      "source": [
        "result = a / b\n",
        "print(a, \"/\", b, \"=\", result)"
      ],
      "metadata": {
        "colab": {
          "base_uri": "https://localhost:8080/"
        },
        "id": "Qum3MB6uwOGf",
        "outputId": "5cb92fb6-f7b3-415d-b726-d918fddd50db"
      },
      "execution_count": null,
      "outputs": [
        {
          "output_type": "stream",
          "name": "stdout",
          "text": [
            "100 / 50 = 2.0\n"
          ]
        }
      ]
    },
    {
      "cell_type": "code",
      "source": [
        "a = 100\n",
        "b = 50\n",
        "result = a + b\n",
        "print(result)\n",
        "print(a, \"+\",  b, \"=\", result)\n",
        "result = a - b\n",
        "print(a, \"-\", b, \"=\", result)\n",
        "result = a * b\n",
        "print(a, \"*\", b, \"=\", result)\n",
        "result = a / b\n",
        "print(a, \"/\", b, \"=\", result)"
      ],
      "metadata": {
        "colab": {
          "base_uri": "https://localhost:8080/"
        },
        "id": "poiyHNafwjUz",
        "outputId": "1f2305d7-87db-4c5b-be94-9a910479d552"
      },
      "execution_count": null,
      "outputs": [
        {
          "output_type": "stream",
          "name": "stdout",
          "text": [
            "150\n",
            "100 + 50 = 150\n",
            "100 - 50 = 50\n",
            "100 * 50 = 5000\n",
            "100 / 50 = 2.0\n"
          ]
        }
      ]
    },
    {
      "cell_type": "code",
      "source": [
        "input()"
      ],
      "metadata": {
        "colab": {
          "base_uri": "https://localhost:8080/",
          "height": 54
        },
        "id": "KEYTn__7xVa5",
        "outputId": "7ddd5262-cdd8-4679-8bb0-ed8bc757cdee"
      },
      "execution_count": null,
      "outputs": [
        {
          "name": "stdout",
          "output_type": "stream",
          "text": [
            "python is really good, and useful\n"
          ]
        },
        {
          "output_type": "execute_result",
          "data": {
            "text/plain": [
              "'python is really good, and useful'"
            ],
            "application/vnd.google.colaboratory.intrinsic+json": {
              "type": "string"
            }
          },
          "metadata": {},
          "execution_count": 3
        }
      ]
    },
    {
      "cell_type": "code",
      "source": [
        "import os\n",
        "\n",
        "a = 100\n",
        "b = 50\n",
        "result = a + b\n",
        "print(result)\n",
        "print(a, \"+\",  b, \"=\", result)\n",
        "result = a - b\n",
        "print(a, \"-\", b, \"=\", result)\n",
        "result = a * b\n",
        "print(a, \"*\", b, \"=\", result)\n",
        "result = a / b\n",
        "print(a, \"/\", b, \"=\", result)\n",
        "\n",
        "\n",
        "os.system(\"Pause\")"
      ],
      "metadata": {
        "colab": {
          "base_uri": "https://localhost:8080/"
        },
        "id": "LIIOYbD-xXrk",
        "outputId": "731de98c-c0fe-45a4-cec0-49e464048edd"
      },
      "execution_count": null,
      "outputs": [
        {
          "output_type": "stream",
          "name": "stdout",
          "text": [
            "150\n",
            "100 + 50 = 150\n",
            "100 - 50 = 50\n",
            "100 * 50 = 5000\n",
            "100 / 50 = 2.0\n"
          ]
        },
        {
          "output_type": "execute_result",
          "data": {
            "text/plain": [
              "32512"
            ]
          },
          "metadata": {},
          "execution_count": 5
        }
      ]
    },
    {
      "cell_type": "code",
      "source": [],
      "metadata": {
        "id": "B3OP6VgixhXR"
      },
      "execution_count": null,
      "outputs": []
    }
  ]
}