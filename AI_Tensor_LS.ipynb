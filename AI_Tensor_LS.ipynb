{
  "nbformat": 4,
  "nbformat_minor": 0,
  "metadata": {
    "colab": {
      "provenance": [],
      "authorship_tag": "ABX9TyNjQYaffptWTvsDElZD3w+6",
      "include_colab_link": true
    },
    "kernelspec": {
      "name": "python3",
      "display_name": "Python 3"
    },
    "language_info": {
      "name": "python"
    }
  },
  "cells": [
    {
      "cell_type": "markdown",
      "metadata": {
        "id": "view-in-github",
        "colab_type": "text"
      },
      "source": [
        "<a href=\"https://colab.research.google.com/github/greapis/jaeha-shim/blob/main/AI_Tensor_LS.ipynb\" target=\"_parent\"><img src=\"https://colab.research.google.com/assets/colab-badge.svg\" alt=\"Open In Colab\"/></a>"
      ]
    },
    {
      "cell_type": "code",
      "execution_count": 1,
      "metadata": {
        "id": "sCYyEWybj6fU"
      },
      "outputs": [],
      "source": [
        "import math\n",
        "import pandas as pd\n",
        "import numpy as np\n"
      ]
    },
    {
      "cell_type": "code",
      "source": [
        "print(math.sqrt(16))\n",
        "print(math.factorial(5))\n",
        "\n",
        "print(np.array([1,2,3,4,5]))"
      ],
      "metadata": {
        "colab": {
          "base_uri": "https://localhost:8080/"
        },
        "id": "HE-4e4kKkBhN",
        "outputId": "a69bf00a-84df-4da2-cf1b-47f04d298018"
      },
      "execution_count": 2,
      "outputs": [
        {
          "output_type": "stream",
          "name": "stdout",
          "text": [
            "4.0\n",
            "120\n",
            "[1 2 3 4 5]\n"
          ]
        }
      ]
    },
    {
      "cell_type": "code",
      "source": [
        "arr = np.array([1,2,3])\n",
        "print(arr)"
      ],
      "metadata": {
        "id": "LynOVVGukEjz",
        "colab": {
          "base_uri": "https://localhost:8080/"
        },
        "outputId": "28c33c43-b5fa-45fd-8f72-a80057fc6827"
      },
      "execution_count": 3,
      "outputs": [
        {
          "output_type": "stream",
          "name": "stdout",
          "text": [
            "[1 2 3]\n"
          ]
        }
      ]
    },
    {
      "cell_type": "code",
      "source": [
        "str = np.array([\"apple\", \"banana\", \"cherry\"])\n",
        "print(str)"
      ],
      "metadata": {
        "colab": {
          "base_uri": "https://localhost:8080/"
        },
        "id": "UdvRTj6pfFUS",
        "outputId": "2971ba53-7030-41dd-faa8-cc3a9bf829dd"
      },
      "execution_count": 4,
      "outputs": [
        {
          "output_type": "stream",
          "name": "stdout",
          "text": [
            "['apple' 'banana' 'cherry']\n"
          ]
        }
      ]
    },
    {
      "cell_type": "code",
      "source": [
        "# 0과 1사이 균등분포 / 난수 1개 생성\n",
        "rn1 = np.random.rand()\n",
        "\n",
        "# 정규분포(평균 = 0, 표준편차 = 1)인 난수 50개 생성\n",
        "rn2 = np.random.normal(loc=0, scale=1, size=50)\n",
        "\n",
        "# 지정 범위 내 균등분포 난수 n개 생성\n",
        "rn3 = np.random.uniform(0, 10, size=5)"
      ],
      "metadata": {
        "id": "OwJIbWrlfMvX"
      },
      "execution_count": 17,
      "outputs": []
    },
    {
      "cell_type": "code",
      "source": [
        "print(rn1)\n",
        "print(rn2)\n",
        "print(rn3)"
      ],
      "metadata": {
        "colab": {
          "base_uri": "https://localhost:8080/"
        },
        "id": "_YYjjTKxfROA",
        "outputId": "1e6f9f76-e633-4659-9421-a9baa0cf870d"
      },
      "execution_count": 18,
      "outputs": [
        {
          "output_type": "stream",
          "name": "stdout",
          "text": [
            "0.42581900736232237\n",
            "[ 0.7466522  -0.10334999  0.08788665  0.0166809  -0.00672435 -1.63554451\n",
            "  1.52729269 -0.3142366   0.16979676 -1.75499474 -1.69263593 -1.46995962\n",
            "  0.69316219  1.00873732 -2.1821114  -0.57746178  0.12583269  1.17531466\n",
            " -0.44378267  1.81549272  0.07603231  0.49484839 -1.78430464  2.03265361\n",
            "  1.47545752  0.1595744  -0.96552575  0.34679715  1.16506413 -0.0927009\n",
            "  1.58913905 -0.76217539  0.5304049   1.23050914  0.72522312  0.71155186\n",
            " -0.69342914 -0.83498214  0.92612253  0.02788692 -0.65442106  0.1595482\n",
            " -0.13479936  1.16218667  0.40527165  0.01753806  0.6053016  -0.40633634\n",
            "  0.65581095  1.58902134]\n",
            "[2.49218154 9.93651454 4.02537209 6.4747431  5.06375507]\n"
          ]
        }
      ]
    },
    {
      "cell_type": "code",
      "source": [],
      "metadata": {
        "id": "Tvy-Aip4jO63"
      },
      "execution_count": 9,
      "outputs": []
    }
  ]
}