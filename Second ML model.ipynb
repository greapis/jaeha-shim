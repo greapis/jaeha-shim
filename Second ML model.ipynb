{
  "nbformat": 4,
  "nbformat_minor": 0,
  "metadata": {
    "colab": {
      "provenance": [],
      "authorship_tag": "ABX9TyMRlwJamT/MU+GvxUr/cvKC",
      "include_colab_link": true
    },
    "kernelspec": {
      "name": "python3",
      "display_name": "Python 3"
    },
    "language_info": {
      "name": "python"
    }
  },
  "cells": [
    {
      "cell_type": "markdown",
      "metadata": {
        "id": "view-in-github",
        "colab_type": "text"
      },
      "source": [
        "<a href=\"https://colab.research.google.com/github/greapis/jaeha-shim/blob/main/Second%20ML%20model.ipynb\" target=\"_parent\"><img src=\"https://colab.research.google.com/assets/colab-badge.svg\" alt=\"Open In Colab\"/></a>"
      ]
    },
    {
      "cell_type": "code",
      "source": [
        "import numpy as np\n",
        "import pandas as pd\n",
        "import tensorflow as tf\n",
        "from tensorflow import keras"
      ],
      "metadata": {
        "id": "JhYU3y0ekLa4"
      },
      "execution_count": 14,
      "outputs": []
    },
    {
      "cell_type": "code",
      "source": [
        "print(tf.__version__)"
      ],
      "metadata": {
        "colab": {
          "base_uri": "https://localhost:8080/"
        },
        "id": "-IShAch5kVXq",
        "outputId": "b59b2493-512b-4e52-a775-56d7f5c7ba02"
      },
      "execution_count": 15,
      "outputs": [
        {
          "output_type": "stream",
          "name": "stdout",
          "text": [
            "2.14.0\n"
          ]
        }
      ]
    },
    {
      "cell_type": "code",
      "source": [
        "# We will train a neural network to recognize items of clothing from a common dataset called Fashion MNIST.\n",
        "  # It contains 70,000 items of clothing in 10 different categories. Each item of clothing is in a 28x28 greyscale image\n",
        "\n",
        "  #  The Fashion MNIST data is available directly in the tf.keras datasets API. You load it like this:\n",
        "\n",
        "mnist = tf.keras.datasets.fashion_mnist"
      ],
      "metadata": {
        "id": "M4WnuVL3kbzk"
      },
      "execution_count": 16,
      "outputs": []
    },
    {
      "cell_type": "code",
      "source": [
        "# Calling load_data on this object will give you two sets of two lists,\n",
        "# these will be the training and testing values for the graphics that contain the clothing items and their labels.\n",
        "\n",
        "(training_images, training_labels), (test_images, test_labels) = mnist.load_data()"
      ],
      "metadata": {
        "id": "G4w499FOenPm"
      },
      "execution_count": 17,
      "outputs": []
    }
  ]
}