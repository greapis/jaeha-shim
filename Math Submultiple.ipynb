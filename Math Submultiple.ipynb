{
  "nbformat": 4,
  "nbformat_minor": 0,
  "metadata": {
    "colab": {
      "provenance": [],
      "authorship_tag": "ABX9TyMH0f6J0T4RXPRPF4daybWt",
      "include_colab_link": true
    },
    "kernelspec": {
      "name": "python3",
      "display_name": "Python 3"
    },
    "language_info": {
      "name": "python"
    }
  },
  "cells": [
    {
      "cell_type": "markdown",
      "metadata": {
        "id": "view-in-github",
        "colab_type": "text"
      },
      "source": [
        "<a href=\"https://colab.research.google.com/github/greapis/jaeha-shim/blob/main/Math%20Submultiple.ipynb\" target=\"_parent\"><img src=\"https://colab.research.google.com/assets/colab-badge.svg\" alt=\"Open In Colab\"/></a>"
      ]
    },
    {
      "cell_type": "code",
      "source": [
        "# Direct Caculate 1 : Submultiple\n",
        "\n",
        "number = 12\n",
        "num_list = []\n",
        "\n",
        "for i in range(1, number+1):\n",
        "    # print(f\"i = {i}\")\n",
        "\n",
        "    # when number was divided by i, there is no residuals : \"약수\"\n",
        "    if number%i == 0:\n",
        "        # print(i)\n",
        "        num_list.append(i)"
      ],
      "metadata": {
        "id": "JZ9ign3ABAu-"
      },
      "execution_count": 40,
      "outputs": []
    },
    {
      "cell_type": "code",
      "source": [
        "print(num_list)"
      ],
      "metadata": {
        "colab": {
          "base_uri": "https://localhost:8080/"
        },
        "id": "JKR8uF7uB4Ko",
        "outputId": "f4d2705b-7da6-4456-ce5f-16e3bc1af5a2"
      },
      "execution_count": 41,
      "outputs": [
        {
          "output_type": "stream",
          "name": "stdout",
          "text": [
            "[1, 2, 3, 4, 6, 12]\n"
          ]
        }
      ]
    },
    {
      "cell_type": "code",
      "source": [
        "# Using function 2 : Submultiple\n",
        "\n",
        "number = 12\n",
        "\n",
        "def divisor(number):\n",
        "  number_list = []\n",
        "  for i in range(1, number+1):\n",
        "    if number%i == 0:\n",
        "      number_list.append(i)\n",
        "\n",
        "  return(number_list)\n",
        "\n",
        "ret = divisor(number)\n",
        "count = len(ret)\n",
        "print(f\"{number}의 약수는 {ret}이고, 갯수는 {count}개 입니다.\")"
      ],
      "metadata": {
        "colab": {
          "base_uri": "https://localhost:8080/"
        },
        "id": "NL-u9u9hC6oF",
        "outputId": "c0202164-f412-4cb4-c05a-68c95c60182e"
      },
      "execution_count": 42,
      "outputs": [
        {
          "output_type": "stream",
          "name": "stdout",
          "text": [
            "12의 약수는 [1, 2, 3, 4, 6, 12]이고, 갯수는 6개 입니다.\n"
          ]
        }
      ]
    },
    {
      "cell_type": "code",
      "source": [
        ""
      ],
      "metadata": {
        "id": "SCly7GP4DYpr"
      },
      "execution_count": 42,
      "outputs": []
    }
  ]
}