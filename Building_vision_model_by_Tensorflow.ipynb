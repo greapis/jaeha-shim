{
  "nbformat": 4,
  "nbformat_minor": 0,
  "metadata": {
    "colab": {
      "provenance": [],
      "authorship_tag": "ABX9TyPhQUuXp+x+A1zt+FutxFrx",
      "include_colab_link": true
    },
    "kernelspec": {
      "name": "python3",
      "display_name": "Python 3"
    },
    "language_info": {
      "name": "python"
    }
  },
  "cells": [
    {
      "cell_type": "markdown",
      "metadata": {
        "id": "view-in-github",
        "colab_type": "text"
      },
      "source": [
        "<a href=\"https://colab.research.google.com/github/greapis/jaeha-shim/blob/main/Building_vision_model_by_Tensorflow.ipynb\" target=\"_parent\"><img src=\"https://colab.research.google.com/assets/colab-badge.svg\" alt=\"Open In Colab\"/></a>"
      ]
    },
    {
      "cell_type": "markdown",
      "source": [
        "## **학습할 내용**\n",
        "\n",
        "\n",
        "이 Codelab에서 알아본 내용은 다음과 같습니다.\n",
        "\n",
        "의류 기사를 인식하도록 신경망 학습시키기\n",
        "네트워크의 다양한 레이어를 실험하는 과정을 안내하는 일련의 연습을 완료합니다.\n",
        "\n",
        "## **빌드할 항목**\n",
        "\n",
        "의류 물품을 식별하는 신경망"
      ],
      "metadata": {
        "id": "PJk2_xTMVY1o"
      }
    },
    {
      "cell_type": "code",
      "source": [],
      "metadata": {
        "id": "oATFfPO7Vd_k"
      },
      "execution_count": null,
      "outputs": []
    }
  ]
}