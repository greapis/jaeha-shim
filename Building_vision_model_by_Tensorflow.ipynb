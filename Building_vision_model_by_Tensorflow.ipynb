{
  "nbformat": 4,
  "nbformat_minor": 0,
  "metadata": {
    "colab": {
      "provenance": [],
      "authorship_tag": "ABX9TyNR6sAEZ5lyW5RPXELXNKGM",
      "include_colab_link": true
    },
    "kernelspec": {
      "name": "python3",
      "display_name": "Python 3"
    },
    "language_info": {
      "name": "python"
    }
  },
  "cells": [
    {
      "cell_type": "markdown",
      "metadata": {
        "id": "view-in-github",
        "colab_type": "text"
      },
      "source": [
        "<a href=\"https://colab.research.google.com/github/greapis/jaeha-shim/blob/main/Building_vision_model_by_Tensorflow.ipynb\" target=\"_parent\"><img src=\"https://colab.research.google.com/assets/colab-badge.svg\" alt=\"Open In Colab\"/></a>"
      ]
    },
    {
      "cell_type": "markdown",
      "source": [
        "## **학습할 내용**\n",
        "\n",
        "\n",
        "의류 기사를 인식하도록 신경망 학습시키기\n",
        "\n",
        "\n",
        "네트워크의 다양한 레이어를 실험하는 과정을 안내하는 일련의 연습을 완료합니다.\n",
        "\n",
        "## **빌드할 항목**\n",
        "\n",
        "의류 물품을 식별하는 신경망"
      ],
      "metadata": {
        "id": "PJk2_xTMVY1o"
      }
    },
    {
      "cell_type": "code",
      "source": [
        "import tensorflow as tf\n",
        "print(tf.__version__)"
      ],
      "metadata": {
        "id": "oATFfPO7Vd_k",
        "colab": {
          "base_uri": "https://localhost:8080/"
        },
        "outputId": "be481358-51ab-4f04-d5c6-4f722601c583"
      },
      "execution_count": 1,
      "outputs": [
        {
          "output_type": "stream",
          "name": "stdout",
          "text": [
            "2.15.0\n"
          ]
        }
      ]
    },
    {
      "cell_type": "markdown",
      "source": [
        "tf.keras.datasets MAPI에서는 Fashion MNIST 데이터를 제공합니다. 다음과 같이 로드합니다."
      ],
      "metadata": {
        "id": "eOELy3cyZ-mA"
      }
    },
    {
      "cell_type": "code",
      "source": [
        "mnist = tf.keras.datasets.fashion_mnist"
      ],
      "metadata": {
        "id": "JmcxM6aiZav3"
      },
      "execution_count": 2,
      "outputs": []
    },
    {
      "cell_type": "markdown",
      "source": [
        "이 객체에서 load_data를 호출하면 두 가지 목록 모음인 학습 값과 테스트 값(의류 항목과 라벨을 표시하는 그래픽을 나타냄)을 제공합니다."
      ],
      "metadata": {
        "id": "d5mMGE03aCI7"
      }
    },
    {
      "cell_type": "code",
      "source": [
        "(training_images, training_labels), (test_images, test_labels) = mnist.load_data()"
      ],
      "metadata": {
        "id": "flLkbWV0Zz8w",
        "outputId": "44bc1217-6c9d-4795-e25e-e5267e4ae135",
        "colab": {
          "base_uri": "https://localhost:8080/"
        }
      },
      "execution_count": 3,
      "outputs": [
        {
          "output_type": "stream",
          "name": "stdout",
          "text": [
            "Downloading data from https://storage.googleapis.com/tensorflow/tf-keras-datasets/train-labels-idx1-ubyte.gz\n",
            "29515/29515 [==============================] - 0s 0us/step\n",
            "Downloading data from https://storage.googleapis.com/tensorflow/tf-keras-datasets/train-images-idx3-ubyte.gz\n",
            "26421880/26421880 [==============================] - 0s 0us/step\n",
            "Downloading data from https://storage.googleapis.com/tensorflow/tf-keras-datasets/t10k-labels-idx1-ubyte.gz\n",
            "5148/5148 [==============================] - 0s 0us/step\n",
            "Downloading data from https://storage.googleapis.com/tensorflow/tf-keras-datasets/t10k-images-idx3-ubyte.gz\n",
            "4422102/4422102 [==============================] - 0s 0us/step\n"
          ]
        }
      ]
    },
    {
      "cell_type": "markdown",
      "source": [
        "각 값의 모양 학습 이미지와 학습 라벨을 인쇄하여 확인합니다. 배열에서 다양한 색인을 실험해 볼 수 있습니다."
      ],
      "metadata": {
        "id": "cISNAesCaVMs"
      }
    },
    {
      "cell_type": "code",
      "source": [
        "import matplotlib.pyplot as plt\n",
        "plt.imshow(training_images[0])\n",
        "print(training_labels[0])\n",
        "print(training_images[0])"
      ],
      "metadata": {
        "colab": {
          "base_uri": "https://localhost:8080/",
          "height": 1000
        },
        "id": "Xj5_jaQraGdX",
        "outputId": "243cb00d-34fb-47e3-d26a-e662a04c8999"
      },
      "execution_count": 4,
      "outputs": [
        {
          "output_type": "stream",
          "name": "stdout",
          "text": [
            "9\n",
            "[[  0   0   0   0   0   0   0   0   0   0   0   0   0   0   0   0   0   0\n",
            "    0   0   0   0   0   0   0   0   0   0]\n",
            " [  0   0   0   0   0   0   0   0   0   0   0   0   0   0   0   0   0   0\n",
            "    0   0   0   0   0   0   0   0   0   0]\n",
            " [  0   0   0   0   0   0   0   0   0   0   0   0   0   0   0   0   0   0\n",
            "    0   0   0   0   0   0   0   0   0   0]\n",
            " [  0   0   0   0   0   0   0   0   0   0   0   0   1   0   0  13  73   0\n",
            "    0   1   4   0   0   0   0   1   1   0]\n",
            " [  0   0   0   0   0   0   0   0   0   0   0   0   3   0  36 136 127  62\n",
            "   54   0   0   0   1   3   4   0   0   3]\n",
            " [  0   0   0   0   0   0   0   0   0   0   0   0   6   0 102 204 176 134\n",
            "  144 123  23   0   0   0   0  12  10   0]\n",
            " [  0   0   0   0   0   0   0   0   0   0   0   0   0   0 155 236 207 178\n",
            "  107 156 161 109  64  23  77 130  72  15]\n",
            " [  0   0   0   0   0   0   0   0   0   0   0   1   0  69 207 223 218 216\n",
            "  216 163 127 121 122 146 141  88 172  66]\n",
            " [  0   0   0   0   0   0   0   0   0   1   1   1   0 200 232 232 233 229\n",
            "  223 223 215 213 164 127 123 196 229   0]\n",
            " [  0   0   0   0   0   0   0   0   0   0   0   0   0 183 225 216 223 228\n",
            "  235 227 224 222 224 221 223 245 173   0]\n",
            " [  0   0   0   0   0   0   0   0   0   0   0   0   0 193 228 218 213 198\n",
            "  180 212 210 211 213 223 220 243 202   0]\n",
            " [  0   0   0   0   0   0   0   0   0   1   3   0  12 219 220 212 218 192\n",
            "  169 227 208 218 224 212 226 197 209  52]\n",
            " [  0   0   0   0   0   0   0   0   0   0   6   0  99 244 222 220 218 203\n",
            "  198 221 215 213 222 220 245 119 167  56]\n",
            " [  0   0   0   0   0   0   0   0   0   4   0   0  55 236 228 230 228 240\n",
            "  232 213 218 223 234 217 217 209  92   0]\n",
            " [  0   0   1   4   6   7   2   0   0   0   0   0 237 226 217 223 222 219\n",
            "  222 221 216 223 229 215 218 255  77   0]\n",
            " [  0   3   0   0   0   0   0   0   0  62 145 204 228 207 213 221 218 208\n",
            "  211 218 224 223 219 215 224 244 159   0]\n",
            " [  0   0   0   0  18  44  82 107 189 228 220 222 217 226 200 205 211 230\n",
            "  224 234 176 188 250 248 233 238 215   0]\n",
            " [  0  57 187 208 224 221 224 208 204 214 208 209 200 159 245 193 206 223\n",
            "  255 255 221 234 221 211 220 232 246   0]\n",
            " [  3 202 228 224 221 211 211 214 205 205 205 220 240  80 150 255 229 221\n",
            "  188 154 191 210 204 209 222 228 225   0]\n",
            " [ 98 233 198 210 222 229 229 234 249 220 194 215 217 241  65  73 106 117\n",
            "  168 219 221 215 217 223 223 224 229  29]\n",
            " [ 75 204 212 204 193 205 211 225 216 185 197 206 198 213 240 195 227 245\n",
            "  239 223 218 212 209 222 220 221 230  67]\n",
            " [ 48 203 183 194 213 197 185 190 194 192 202 214 219 221 220 236 225 216\n",
            "  199 206 186 181 177 172 181 205 206 115]\n",
            " [  0 122 219 193 179 171 183 196 204 210 213 207 211 210 200 196 194 191\n",
            "  195 191 198 192 176 156 167 177 210  92]\n",
            " [  0   0  74 189 212 191 175 172 175 181 185 188 189 188 193 198 204 209\n",
            "  210 210 211 188 188 194 192 216 170   0]\n",
            " [  2   0   0   0  66 200 222 237 239 242 246 243 244 221 220 193 191 179\n",
            "  182 182 181 176 166 168  99  58   0   0]\n",
            " [  0   0   0   0   0   0   0  40  61  44  72  41  35   0   0   0   0   0\n",
            "    0   0   0   0   0   0   0   0   0   0]\n",
            " [  0   0   0   0   0   0   0   0   0   0   0   0   0   0   0   0   0   0\n",
            "    0   0   0   0   0   0   0   0   0   0]\n",
            " [  0   0   0   0   0   0   0   0   0   0   0   0   0   0   0   0   0   0\n",
            "    0   0   0   0   0   0   0   0   0   0]]\n"
          ]
        },
        {
          "output_type": "display_data",
          "data": {
            "text/plain": [
              "<Figure size 640x480 with 1 Axes>"
            ],
            "image/png": "[encoded data removed]"
          },
          "metadata": {}
        }
      ]
    },
    {
      "cell_type": "markdown",
      "source": [
        "모든 값은 0~255의 정수인 것을 알 수 있습니다. 신경망을 학습시킬 때 모든 값을 0과 1 사이의 값으로 쉽게 처리하는 정규화라고 합니다. 다행히 Python은 반복 없이 이러한 목록을 정규화하는 쉬운 방법을 제공합니다."
      ],
      "metadata": {
        "id": "RXhIKiiKbLmk"
      }
    },
    {
      "cell_type": "code",
      "source": [
        "training_images = training_images / 255.0\n",
        "test_images = test_images / 255.0"
      ],
      "metadata": {
        "id": "t3Qm9r2WbDuf"
      },
      "execution_count": 5,
      "outputs": []
    },
    {
      "cell_type": "markdown",
      "source": [
        "색인 0의 부팅과 다른 부팅인 42를 살펴보는 것도 좋습니다.\n",
        "\n",
        "이제 학습과 테스트라는 두 가지 데이터 세트가 있는 이유가 궁금할 수 있습니다.\n",
        "\n",
        "모델을 아직 분류하지 못했을 때와 학습용으로 아직 다른 데이터 세트를 사용하여 분류가 얼마나 잘 되었는지 확인할 수 있습니다. 실제로 완료되면 다시 보지 못했던 데이터로 모델을 사용하고 싶을 것입니다. 또한 별도의 테스트 데이터가 없으면 네트워크에서 지식을 일반화하지 않고 학습 데이터만 기억할 위험이 있습니다."
      ],
      "metadata": {
        "id": "IiMlSIoVbcNn"
      }
    },
    {
      "cell_type": "markdown",
      "source": [
        "**3. 모델 설계**\n",
        "\n",
        "\n",
        "이제 모델을 디자인합니다. 3개의 레이어가 있습니다. 하나씩 살펴보고 다양한 유형의 레이어와 각 레이어에 사용되는 매개변수를 살펴봅니다."
      ],
      "metadata": {
        "id": "PWfL0gIhbkEj"
      }
    },
    {
      "cell_type": "code",
      "source": [
        "model = tf.keras.models.Sequential([tf.keras.layers.Flatten(),\n",
        "                                    tf.keras.layers.Dense(128, activation=tf.nn.relu),\n",
        "                                    tf.keras.layers.Dense(10, activation=tf.nn.softmax)])"
      ],
      "metadata": {
        "id": "N3EE0WFibSPx"
      },
      "execution_count": 6,
      "outputs": []
    },
    {
      "cell_type": "markdown",
      "source": [
        "\n",
        "\n",
        "*   Sequential은 신경망의 레이어 시퀀스를 정의합니다.\n",
        "*   Flatten는 정사각형을 사용하여 1차원 벡터로 변환합니다\n",
        "\n",
        "\n",
        "*   Dense은 뉴런의 레이어를 추가합니다.\n",
        "*   Activation 함수는 각 뉴런 레이어에 해야 할 일을 알려줍니다. 많은 옵션이 있지만 지금은 다음을 사용하세요.\n",
        "\n",
        "\n",
        "*   Relu가 X가 0보다 큰 경우 X를 반환하고 그렇지 않으면 0을 반환한다는 의미입니다. 0 이상의 값만 네트워크의 다음 레이어로 전달됩니다.\n",
        "*   Softmax는 일련의 값을 사용하여 가장 큰 값을 선택합니다. 예를 들어 마지막 레이어의 출력이 [0.1, 0.1, 0.05, 0.1, 9.5, 0.1, 0.05, 0.05, 0.05]와 같이 표시되면 가장 큰 값을 정렬하지 않아도 되므로 [0,0,0,0,1,0,0,0]0을 반환합니다.\n",
        "\n",
        "\n",
        "\n",
        "\n",
        "\n"
      ],
      "metadata": {
        "id": "NJTkHeDUbsX9"
      }
    },
    {
      "cell_type": "markdown",
      "source": [
        "**4. 모델 컴파일 및 학습**\n",
        "\n",
        "모델이 정의되었으므로 다음으로 빌드해야 할 작업입니다. 먼저 optimizer 및 loss 함수로 모델을 컴파일한 다음 학습 데이터 및 라벨로 모델을 학습시키세요. 목표는 학습 데이터와 학습 라벨 간의 관계를 모델이 찾아내도록 하는 것입니다. 나중에 모델에서 학습 데이터와 유사한 데이터를 확인한 후 데이터가 어떻게 표시될지 예측해 봅니다.\n",
        "\n",
        "metrics=를 매개변수로 사용하면 TensorFlow에서 예측된 결과를 알려진 답변 (라벨)과 비교하여 학습의 정확성을 보고할 수 있습니다."
      ],
      "metadata": {
        "id": "fqP7Mmm78tT8"
      }
    },
    {
      "cell_type": "code",
      "source": [
        "model.compile(optimizer = tf.keras.optimizers.Adam(),\n",
        "              loss = 'sparse_categorical_crossentropy',\n",
        "              metrics=['accuracy'])\n",
        "\n",
        "model.fit(training_images, training_labels, epochs=5)"
      ],
      "metadata": {
        "id": "ZwYG6u-xb61V",
        "outputId": "958bc425-0f5d-48e4-bdff-ee249fb1ecca",
        "colab": {
          "base_uri": "https://localhost:8080/"
        }
      },
      "execution_count": 7,
      "outputs": [
        {
          "output_type": "stream",
          "name": "stdout",
          "text": [
            "Epoch 1/5\n",
            "1875/1875 [==============================] - 21s 10ms/step - loss: 0.5030 - accuracy: 0.8236\n",
            "Epoch 2/5\n",
            "1875/1875 [==============================] - 12s 7ms/step - loss: 0.3805 - accuracy: 0.8639\n",
            "Epoch 3/5\n",
            "1875/1875 [==============================] - 11s 6ms/step - loss: 0.3409 - accuracy: 0.8766\n",
            "Epoch 4/5\n",
            "1875/1875 [==============================] - 16s 9ms/step - loss: 0.3162 - accuracy: 0.8844\n",
            "Epoch 5/5\n",
            "1875/1875 [==============================] - 12s 6ms/step - loss: 0.2962 - accuracy: 0.8905\n"
          ]
        },
        {
          "output_type": "execute_result",
          "data": {
            "text/plain": [
              "<keras.src.callbacks.History at 0x7e63606b6cb0>"
            ]
          },
          "metadata": {},
          "execution_count": 7
        }
      ]
    },
    {
      "cell_type": "markdown",
      "source": [
        "model.fit을 실행하면 손실 및 정확성이 표시됩니다."
      ],
      "metadata": {
        "id": "G4xRwyqa9xpW"
      }
    },
    {
      "cell_type": "markdown",
      "source": [
        "모델 학습이 완료되면 마지막 에포크가 끝나면 정확도 값이 표시됩니다. 위와 같이 0.8926과 같이 표시될 수 있습니다. 이렇게 하면 신경망이 학습 데이터를 분류하는 데 약 89% 정확합니다. 즉, 이미지와 패턴의 89% 가 일치하는 패턴을 찾았습니다. 좋지는 않지만 5에포크 동안만 학습하고 빠르게 완료했다는 점을 감안하면 나쁘지 않습니다."
      ],
      "metadata": {
        "id": "T2LYeYFj9rYU"
      }
    },
    {
      "cell_type": "markdown",
      "source": [
        "**5. 모델 테스트**\n",
        "\n",
        "\n",
        "모델이 본 적이 없는 데이터에 대해 어떤 성능을 보일까요? 테스트 모음이 필요한 이유입니다. model.evaluate를 호출하여 두 세트를 전달하면 각 집합의 손실을 보고합니다. 한번 사용해 보세요."
      ],
      "metadata": {
        "id": "ghtJi76v96dq"
      }
    },
    {
      "cell_type": "code",
      "source": [
        "model.evaluate(test_images, test_labels)"
      ],
      "metadata": {
        "id": "G1S77rOB90EX",
        "outputId": "3cdeebca-ab09-4dcb-ee81-81095d882a1d",
        "colab": {
          "base_uri": "https://localhost:8080/"
        }
      },
      "execution_count": 8,
      "outputs": [
        {
          "output_type": "stream",
          "name": "stdout",
          "text": [
            "313/313 [==============================] - 1s 2ms/step - loss: 0.3534 - accuracy: 0.8758\n"
          ]
        },
        {
          "output_type": "execute_result",
          "data": {
            "text/plain": [
              "[0.35340285301208496, 0.8758000135421753]"
            ]
          },
          "metadata": {},
          "execution_count": 8
        }
      ]
    },
    {
      "cell_type": "markdown",
      "source": [
        "6. 탐험 연습\n",
        "연습 1\n",
        "이 첫 번째 연습에서는 다음 코드를 실행합니다."
      ],
      "metadata": {
        "id": "KzInND6aRKuQ"
      }
    },
    {
      "cell_type": "markdown",
      "source": [
        "이 예에서는 .8789의 정확성을 반환했으며, 이는 정확성이 약 88% 임을 의미합니다. 값이 약간 다를 수 있습니다.\n",
        "\n",
        "모델이 알 수 없는 데이터로 학습한 경우만큼 정확하지 않습니다. TensorFlow에 관해 자세히 알아보면서 개선 방법을 알아보겠습니다.\n",
        "\n",
        "더 자세히 알아보려면 다음 단계의 실습을 시도해 보세요."
      ],
      "metadata": {
        "id": "LszCVJzT-LOH"
      }
    },
    {
      "cell_type": "markdown",
      "source": [
        "**6. 탐험 연습**\n",
        "\n",
        "\n",
        "\n",
        "연습 1\n",
        "\n",
        "이 첫 번째 연습에서는 다음 코드를 실행합니다."
      ],
      "metadata": {
        "id": "a4NoMSn9RVKQ"
      }
    },
    {
      "cell_type": "code",
      "source": [
        "classifications = model.predict(test_images)\n",
        "print(classifications[0])"
      ],
      "metadata": {
        "id": "Zbs8PNN8-EL4",
        "colab": {
          "base_uri": "https://localhost:8080/"
        },
        "outputId": "2e1f6f60-2c0b-4fd2-aceb-3d986a00c967"
      },
      "execution_count": 9,
      "outputs": [
        {
          "output_type": "stream",
          "name": "stdout",
          "text": [
            "313/313 [==============================] - 1s 2ms/step\n",
            "[2.7703312e-05 6.1701300e-08 1.2112720e-06 1.2980078e-06 3.8950911e-06\n",
            " 3.2061398e-02 7.6159951e-05 1.8998256e-02 2.9019755e-05 9.4880098e-01]\n"
          ]
        }
      ]
    },
    {
      "cell_type": "markdown",
      "source": [
        "각 테스트 이미지에 대한 분류 집합을 만든 다음 분류의 첫 번째 항목을 출력합니다. 실행 후의 결과는 숫자 목록입니다. 이러한 수치가 무엇이라고 생각하나요? 이러한 수치는 무엇을 의미하나요?"
      ],
      "metadata": {
        "id": "gUcMid7TR1IL"
      }
    },
    {
      "cell_type": "markdown",
      "source": [
        "print(test_labels[0])을 실행하면 9가 나옵니다. 목록이 이렇게 보이는 이유를 이해하는 데 도움이 되나요?\n",
        "\n",
        "\n",
        "모델의 출력은 10개의 숫자 목록입니다. 분류되는 값이 해당 라벨일 확률입니다. 예를 들어 목록의 첫 번째 값은 의류가 클래스 0이고 다음 값이 1일 확률입니다. 이 중 한 가지를 제외하면 모두 확률은 매우 낮습니다. 또한 Softmax로 인해 목록의 모든 확률은 1.0이 됩니다.\n",
        "\n",
        "\n",
        "목록과 라벨은 0을 기반으로 하므로 발목 부츠 9는 라벨 10개의 10번째임을 나타냅니다. 목록에서 10번째 요소가 가장 높은 것은 신경망에서 분류한 항목이 앵클 부츠일 가능성이 높다는 것을 예측했다는 의미입니다."
      ],
      "metadata": {
        "id": "RfRer3vPR5G4"
      }
    },
    {
      "cell_type": "markdown",
      "source": [
        "**Refrence : \"softmax\" by bing search**\n",
        "\n",
        "\n",
        "Here's the docs: https://www.tensorflow.org/api_docs/python/tf/nn/softmax\n",
        "\n",
        "Basically, softmax is good for classification. It will take any number and map it to an output of either 0 or 1 (for example) because we say that if Softmax(X) <0.5 then set it equal to zero and if Softmax(X)>=0.5 then set it equal to 1."
      ],
      "metadata": {
        "id": "EaX7svGOSnTC"
      }
    },
    {
      "cell_type": "markdown",
      "source": [
        "**연습 2**\n",
        "\n",
        "\n",
        "\n",
        "모델의 레이어를 확인합니다. 512개의 뉴런이 있는 밀집 레이어의 다양한 값을 실험합니다.\n",
        "\n",
        "손실 및 학습 시간에 어떤 결과를 얻나요? 그렇게 생각한 이유는 무엇인가요?\n",
        "\n",
        "예를 들어 뉴런이 1,024개로 늘어나면 더 많은 계산이 필요하기 때문에 프로세스 속도가 느려집니다. 하지만 이 경우에는 모델이 더 정확하기 때문에 결과가 효과적입니다. 그렇다고 해서 더 좋은 것은 아닙니다. 수익 감소의 법안에 매우 빨리 부딪힐 수 있습니다."
      ],
      "metadata": {
        "id": "ZJiG6e6LicKE"
      }
    },
    {
      "cell_type": "markdown",
      "source": [
        "**연습 3**\n",
        "\n",
        "\n",
        "Flatten() 레이어를 삭제하면 어떻게 되나요? 그렇게 생각한 이유는 무엇인가요?\n",
        "\n",
        "데이터 모양에 대한 오류가 발생합니다. 지금은 오류의 세부정보가 모호하게 보일 수 있지만 네트워크의 첫 번째 레이어가 데이터와 같은 형태여야 한다는 점을 확실히 강조합니다. 지금은 데이터가 28x28 이미지이고 28개의 뉴런이 28개 레이어로 구현되지 않을 수 있으므로 28,28개를 784x1로 평면화하는 것이 좋습니다.\n",
        "\n",
        "모든 코드를 작성하는 대신 앞에 Flatten() 레이어를 추가합니다. 배열은 나중에 모델에 로드되면 자동으로 평면화됩니다."
      ],
      "metadata": {
        "id": "dO1SvmBYiwFK"
      }
    },
    {
      "cell_type": "markdown",
      "source": [
        "**연습 4**\n",
        "\n",
        "\n",
        "최종 (출력) 레이어를 생각해보세요. 10개가 넘는 이유는 무엇인가요? 10과 다른 금액이 있다면 어떻게 될까요?\n",
        "\n",
        "5번을 사용해 네트워크를 학습시켜 보세요. 예상치 못한 값이 발견되면 바로 오류가 표시됩니다. 또 다른 원칙으로, 마지막 레이어의 뉴런 수는 분류하는 클래스의 수와 일치해야 합니다. 이 경우 숫자 0~9의 숫자가 10개이므로 최종 레이어에는 10개의 뉴런이 있어야 합니다."
      ],
      "metadata": {
        "id": "V5u5Gh9qix0n"
      }
    },
    {
      "cell_type": "markdown",
      "source": [
        "**운동 5**\n",
        "\n",
        "\n",
        "네트워크에 추가 레이어가 미치는 영향을 고려합니다. 512가 있는 레이어와 10이 있는 마지막 레이어 사이에 다른 레이어를 추가하면 어떻게 되나요?\n",
        "\n",
        "상대적으로 간단한 데이터이므로 큰 영향을 미치지 않습니다. 훨씬 더 복잡한 데이터의 경우 추가 레이어가 필요한 경우가 많습니다."
      ],
      "metadata": {
        "id": "N_RVU-Qai4wz"
      }
    },
    {
      "cell_type": "markdown",
      "source": [
        "**운동 6**\n",
        "\n",
        "\n",
        "학습 전에 0에서 255 사이의 값에서 0에서 1 사이의 값으로 변경하는 데이터를 정규화했습니다. 콘텐츠를 삭제하면 어떤 영향이 있을까요? 한 번 시도해 보세요. (데이터를 정규화하는 두 줄이 주석 처리되어 있습니다.)\n",
        "\n",
        "결과가 서로 다른 이유는 무엇인가요? Stack Overflow에 좋은 답변이 있습니다.\n",
        "\n",
        "stack Overflow URL : https://stackoverflow.com/questions/48284427/why-should-we-normalize-data-for-deep-learning-in-keras"
      ],
      "metadata": {
        "id": "6fdmyvuHi496"
      }
    },
    {
      "cell_type": "code",
      "source": [
        "import tensorflow as tf\n",
        "print(tf.__version__)\n",
        "mnist = tf.keras.datasets.fashion_mnist\n",
        "(training_images, training_labels), (test_images, test_labels) = mnist.load_data()\n",
        "training_images = training_images/255.0\n",
        "test_images = test_images/255.0\n",
        "model = tf.keras.models.Sequential([\n",
        "    tf.keras.layers.Flatten(),\n",
        "    tf.keras.layers.Dense(512, activation=tf.nn.relu),\n",
        "    tf.keras.layers.Dense(10, activation=tf.nn.softmax)\n",
        "])\n",
        "model.compile(optimizer='adam', loss='sparse_categorical_crossentropy')\n",
        "model.fit(training_images, training_labels, epochs=5)\n",
        "model.evaluate(test_images, test_labels)\n",
        "classifications = model.predict(test_images)\n",
        "print(classifications[0])\n",
        "print(test_labels[0])"
      ],
      "metadata": {
        "id": "xuJ-VwJBjJP8",
        "outputId": "ee3ef92d-d22d-41c6-da71-2dc37cd738d1",
        "colab": {
          "base_uri": "https://localhost:8080/"
        }
      },
      "execution_count": 15,
      "outputs": [
        {
          "output_type": "stream",
          "name": "stdout",
          "text": [
            "2.15.0\n",
            "Epoch 1/5\n",
            "1875/1875 [==============================] - 14s 7ms/step - loss: 0.4717\n",
            "Epoch 2/5\n",
            "1875/1875 [==============================] - 15s 8ms/step - loss: 0.3613\n",
            "Epoch 3/5\n",
            "1875/1875 [==============================] - 12s 7ms/step - loss: 0.3225\n",
            "Epoch 4/5\n",
            "1875/1875 [==============================] - 13s 7ms/step - loss: 0.2973\n",
            "Epoch 5/5\n",
            "1875/1875 [==============================] - 12s 6ms/step - loss: 0.2799\n",
            "313/313 [==============================] - 1s 2ms/step - loss: 0.3486\n",
            "313/313 [==============================] - 1s 2ms/step\n",
            "[2.8040133e-06 3.6011727e-08 2.8618324e-08 2.2683219e-08 6.1035834e-08\n",
            " 6.0020471e-03 2.7404615e-06 4.2231135e-02 7.7824541e-07 9.5176029e-01]\n",
            "9\n"
          ]
        }
      ]
    },
    {
      "cell_type": "markdown",
      "source": [
        "**7. 콜백 살펴보기**\n",
        "\n",
        "\n",
        "앞서 추가 에포크 동안 학습할 때 손실이 변경되는 문제가 있었습니다. 학습이 끝날 때까지 시간이 좀 걸릴 수도 있고, 95% 의 정확도 같은 원하는 값을 달성했을 때 학습을 중단시킬 수 있다면 더할 나위 없이 좋을 것입니다. 3에포크까지 도달하면 더 많은 에포크가 끝날 때까지 기다리세요.\n",
        "\n",
        "다른 프로그램과 마찬가지로 콜백이 있습니다. 실제 사례 보기"
      ],
      "metadata": {
        "id": "hHxb6qfNlUX2"
      }
    },
    {
      "cell_type": "code",
      "source": [
        "import tensorflow as tf\n",
        "\n",
        "# class myCallback(tf.keras.callbacks.Callback):\n",
        "#   def on_epoch_end(self, epoch, logs={}):\n",
        "#     if(logs.get('accuracy')>0.95):\n",
        "#       print(\"\\nReached 95% accuracy so cancelling training!\")\n",
        "#       self.model.stop_training = True\n",
        "\n",
        "# callbacks = myCallback()\n",
        "# mnist = tf.keras.datasets.fashion_mnist\n",
        "# (training_images, training_labels), (test_images, test_labels) = mnist.load_data()\n",
        "# training_images=training_images/255.0\n",
        "# test_images=test_images/255.0\n",
        "# model = tf.keras.models.Sequential([\n",
        "#   tf.keras.layers.Flatten(),\n",
        "#   tf.keras.layers.Dense(512, activation=tf.nn.relu),\n",
        "#   tf.keras.layers.Dense(10, activation=tf.nn.softmax)\n",
        "# ])\n",
        "# model.compile(optimizer='adam', loss='sparse_categorical_crossentropy', metrics=['accuracy'])\n",
        "# model.fit(training_images, training_labels, epochs=5, callbacks=[callbacks])"
      ],
      "metadata": {
        "id": "7ee4uDhAlbME"
      },
      "execution_count": 17,
      "outputs": []
    },
    {
      "cell_type": "code",
      "source": [],
      "metadata": {
        "id": "4OBSoyhopEED"
      },
      "execution_count": null,
      "outputs": []
    }
  ]
}