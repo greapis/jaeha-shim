{
  "nbformat": 4,
  "nbformat_minor": 0,
  "metadata": {
    "colab": {
      "provenance": [],
      "authorship_tag": "ABX9TyOpHPWRxE4szD8uRpnk7KMB",
      "include_colab_link": true
    },
    "kernelspec": {
      "name": "python3",
      "display_name": "Python 3"
    },
    "language_info": {
      "name": "python"
    }
  },
  "cells": [
    {
      "cell_type": "markdown",
      "metadata": {
        "id": "view-in-github",
        "colab_type": "text"
      },
      "source": [
        "<a href=\"https://colab.research.google.com/github/greapis/jaeha-shim/blob/main/First%20ML%20model.ipynb\" target=\"_parent\"><img src=\"https://colab.research.google.com/assets/colab-badge.svg\" alt=\"Open In Colab\"/></a>"
      ]
    },
    {
      "cell_type": "code",
      "source": [
        "import pandas as pd\n",
        "import numpy as np\n",
        "import tensorflow as tf\n",
        "from tensorflow import keras"
      ],
      "metadata": {
        "id": "GpVyBE_Dxsfk"
      },
      "execution_count": 11,
      "outputs": []
    },
    {
      "cell_type": "code",
      "source": [
        "# Define 신경망\n",
        "\n",
        "#가장 간단한 신경망을 만듭니다. 레이어가 하나이고, 레이어에 뉴런이 하나 있으며, 입력 도형은 값이 하나뿐입니다.\n",
        "model = tf.keras.Sequential([keras.layers.Dense(units=1, input_shape=[1])])\n",
        "\n",
        "# 먼저 손실에 mean_squared_error를 사용하고 옵티마이저에 스토크 경사하강법(sgd)을 사용하도록 지시하는 방법을 알아보겠습니다\n",
        "model.compile(optimizer='sgd', loss='mean_squared_erroe')\n",
        "\n",
        "# data 제공\n",
        "# NumPy라는 Python 라이브러리는 이를 위한 다양한 배열 유형 데이터 구조를 제공\n",
        "xs = np.array([-1.0, 0.0, 1.0, 2.0, 3.0, 4.0], dtype=float)\n",
        "ys = np.array([-2.0, 1.0, 4.0, 7.0, 10.0, 13.0], dtype=float)"
      ],
      "metadata": {
        "id": "a227cEsCydv9"
      },
      "execution_count": 15,
      "outputs": []
    },
    {
      "cell_type": "code",
      "source": [],
      "metadata": {
        "id": "6KknjiNt0s23"
      },
      "execution_count": null,
      "outputs": []
    }
  ]
}