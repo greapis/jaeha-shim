{
  "nbformat": 4,
  "nbformat_minor": 0,
  "metadata": {
    "colab": {
      "provenance": [],
      "authorship_tag": "ABX9TyMAl1WKCd3P2zWf1ioEaji4",
      "include_colab_link": true
    },
    "kernelspec": {
      "name": "python3",
      "display_name": "Python 3"
    },
    "language_info": {
      "name": "python"
    }
  },
  "cells": [
    {
      "cell_type": "markdown",
      "metadata": {
        "id": "view-in-github",
        "colab_type": "text"
      },
      "source": [
        "<a href=\"https://colab.research.google.com/github/greapis/jaeha-shim/blob/main/Sigmoid_fucntion.ipynb\" target=\"_parent\"><img src=\"https://colab.research.google.com/assets/colab-badge.svg\" alt=\"Open In Colab\"/></a>"
      ]
    },
    {
      "cell_type": "markdown",
      "source": [
        "이 코드 흐름은\n",
        "\n",
        "np.linspace로 x축 범위 설정\n",
        "\n",
        "sigmoid(x) 호출\n",
        "\n",
        "matplotlib으로 꾸미고 출력\n",
        "\n",
        "— 끝!\n",
        "\n",
        "추가로 해볼 만한 확장 아이디어\n",
        "\n",
        "미분 그래프: σ′(x) = σ(x)*(1-σ(x)) 를 같은 플롯에 추가해보면 경사(gradient)가 어디서 가장 큰지 직관적으로 알 수 있어.\n",
        "\n",
        "비교 플롯: tanh(x), ReLU(x) 와 함께 겹쳐 그려보면 각 활성화 함수의 장단점(출력 범위·zero-centering·vanishing gradient 등)이 한눈에 보여.\n",
        "\n",
        "파라미터 조정: σ(kx)처럼 k를 바꿔가며 곡선이 얼마나 가파르게 변하는지 실험해보는 것도 재미있어.\n",
        "\n",
        "인터랙티브 시각화: Plotly나 Bokeh 쓰면 슬라이더로 k값 조절하며 실시간으로 곡선 변화를 관찰할 수 있어."
      ],
      "metadata": {
        "id": "udjNhMsBxLTj"
      }
    },
    {
      "cell_type": "code",
      "source": [
        "import numpy as np\n",
        "import matplotlib.pyplot as plt\n",
        "\n",
        "def sigmoid(x):\n",
        "    return 1 / (1 + np.exp(-x))\n",
        "\n",
        "# 1) x 범위 생성\n",
        "x = np.linspace(-10, 10, 400)    # -10부터 10까지 400개의 점\n",
        "\n",
        "# 2) sigmoid 값 계산\n",
        "y = sigmoid(x)\n",
        "\n",
        "# 3) 그래프 그리기\n",
        "plt.figure(figsize=(8, 4))\n",
        "plt.plot(x, y, color='royalblue', linewidth=2)\n",
        "plt.title('Sigmoid Function σ(x) = 1 / (1 + e^{-x})', fontsize=14)\n",
        "plt.xlabel('x', fontsize=12)\n",
        "plt.ylabel('σ(x)', fontsize=12)\n",
        "plt.axhline(0, color='grey', linewidth=0.5)   # y=0 축\n",
        "plt.axvline(0, color='grey', linewidth=0.5)   # x=0 축\n",
        "plt.grid(True, linestyle='--', alpha=0.6)\n",
        "plt.show()\n"
      ],
      "metadata": {
        "id": "LHORW-whxL20"
      },
      "execution_count": null,
      "outputs": []
    }
  ]
}